{
 "cells": [
  {
   "cell_type": "code",
   "execution_count": 1,
   "metadata": {},
   "outputs": [
    {
     "data": {
      "text/plain": [
       "hour\n",
       "00:00    3.45\n",
       "01:00    3.01\n",
       "02:00    3.81\n",
       "03:00    2.39\n",
       "04:00    3.12\n",
       "05:00    3.34\n",
       "06:00    2.61\n",
       "07:00    2.83\n",
       "08:00    3.45\n",
       "09:00    3.63\n",
       "10:00    5.08\n",
       "11:00    6.49\n",
       "12:00    5.19\n",
       "13:00    5.30\n",
       "14:00    5.66\n",
       "15:00    5.51\n",
       "16:00    5.91\n",
       "17:00    5.08\n",
       "18:00    4.32\n",
       "19:00    4.61\n",
       "20:00    4.06\n",
       "21:00    4.46\n",
       "22:00    3.52\n",
       "23:00    3.19\n",
       "Name: visits, dtype: float64"
      ]
     },
     "metadata": {},
     "output_type": "display_data"
    },
    {
     "data": {
      "text/plain": [
       "lastsignTrafficSource\n",
       "Direct traffic            66.23\n",
       "Internal traffic           0.29\n",
       "Link traffic               1.12\n",
       "Search engine traffic     30.69\n",
       "Social network traffic     1.67\n",
       "Name: visits, dtype: float64"
      ]
     },
     "metadata": {},
     "output_type": "display_data"
    }
   ],
   "source": [
    "import pandas as pd\n",
    "import json\n",
    "import requests\n",
    "from pprint import pprint\n",
    "\n",
    "# Запрос для Яндекс Метрики\n",
    "token = #'В СТРОКЕ УКАЗАТЬ СВОЙ РАБОЧИЙ ТОКЕН'\n",
    "headers = {'Authorization': 'OAuth'+token}\n",
    "params = {'metrics': 'ym:s:visits',\n",
    "         'dimensions': 'ym:s:hour,ym:s:lastsignTrafficSource,ym:s:isRobot',\n",
    "         'date1': '2016-01-01',\n",
    "         'date2': '2019-07-01',\n",
    "         'ids': 30177909,\n",
    "         'accuracy': 'full',\n",
    "         'limit': 100000}\n",
    "response = requests.get('https://api-metrika.yandex.net/stat/v1/data', params=params, headers=headers)\n",
    "metrika_data = response.json()\n",
    "\n",
    "# Формула для перебора данных из запроса\n",
    "def getMetrikaDataInListOfDicts(metrika_data):\n",
    "    list_of_dicts=[]\n",
    "    dimensions_list=metrika_data['query']['dimensions']\n",
    "    metrics_list=metrika_data['query']['metrics']\n",
    "    for data_item in metrika_data['data']:\n",
    "        d={}\n",
    "        for i, dimension in enumerate(data_item['dimensions']):\n",
    "            d[dimensions_list[i]]=dimension['name']\n",
    "        for i, metric in enumerate(data_item['metrics']):\n",
    "            d[metrics_list[i]]=metric\n",
    "        list_of_dicts.append(d)\n",
    "    return list_of_dicts\n",
    "\n",
    "\n",
    "# Перебрал запрос, на основе этих данных, создал DataFrame — metrika_df\n",
    "metrika_list_of_dicts = getMetrikaDataInListOfDicts(metrika_data)\n",
    "metrika_df = pd.DataFrame(metrika_list_of_dicts)\n",
    "\n",
    "# Перевел столбец с визитами в целочисленный дата тип\n",
    "metrika_df['ym:s:visits'] = (metrika_df['ym:s:visits']).astype(int)\n",
    "\n",
    "# Убрал пустые значения в столбце ym:s:lastsignTrafficSource\n",
    "metrika_df = metrika_df.dropna()\n",
    "\n",
    "# Убрал ym:s из названия столбцов\n",
    "metrika_df.columns = [col.replace('ym:s:', '') for col in metrika_df.columns]\n",
    "\n",
    "# Фильтр DataFrame metrika_df по столбцу isRobot, значения — Robots. Новый DataFrame — isRobots_df\n",
    "isRobots_df = metrika_df[metrika_df['isRobot']=='Robots']\n",
    "\n",
    "# Посчитал общее количество визитов роботов\n",
    "All_Robot_visits = isRobots_df['visits'].sum()\n",
    "\n",
    "\n",
    "# Процент визитов роботов по часами к общему количеству визитов роботов\n",
    "Visit_Robot_by_the_Hour = ((isRobots_df.groupby('hour')['visits'].sum()) / All_Robot_visits) * 100\n",
    "for i in range(len(Visit_Robot_by_the_Hour)):\n",
    "    Visit_Robot_by_the_Hour[i] = \"%.2f\" % Visit_Robot_by_the_Hour[i]\n",
    "\n",
    "# Процент визитов роботов, в зависимости от источника к общему количеству визитов роботов\n",
    "Visit_Robot_by_the_Source = ((isRobots_df.groupby('lastsignTrafficSource')['visits'].sum()) / All_Robot_visits) * 100\n",
    "for i in range(len(Visit_Robot_by_the_Source)):\n",
    "    Visit_Robot_by_the_Source[i] = \"%.2f\" % Visit_Robot_by_the_Source[i]\n",
    "\n",
    "\n",
    "# Проверка гипотиз:\n",
    "\n",
    "# №1 — процент визитов роботов по часами к общему количеству визитов роботов:\n",
    "display(Visit_Robot_by_the_Hour)\n",
    "# Вывод: с 10:00 до 17:00 количество визитов роботов увеличивается на 1-2%, в зависимости от другого времени. Пик — в 11:00\n",
    "\n",
    "# №2 — процент визитов роботов, в зависимости от источника, к общему количеству визитов роботов:\n",
    "display(Visit_Robot_by_the_Source)\n",
    "# Вывод: большая часть трафика из Директа — 66%, из поиска — 31%. У остальных источников — менее 2%\n"
   ]
  }
 ],
 "metadata": {
  "kernelspec": {
   "display_name": "Python 3",
   "language": "python",
   "name": "python3"
  },
  "language_info": {
   "codemirror_mode": {
    "name": "ipython",
    "version": 3
   },
   "file_extension": ".py",
   "mimetype": "text/x-python",
   "name": "python",
   "nbconvert_exporter": "python",
   "pygments_lexer": "ipython3",
   "version": "3.7.6"
  }
 },
 "nbformat": 4,
 "nbformat_minor": 4
}
